{
 "cells": [
  {
   "cell_type": "code",
   "execution_count": 1,
   "metadata": {},
   "outputs": [],
   "source": [
    "# Lockdown Mania"
   ]
  },
  {
   "cell_type": "code",
   "execution_count": 2,
   "metadata": {},
   "outputs": [],
   "source": [
    "# Importing the libraries\n",
    "import numpy as np\n",
    "import matplotlib.pyplot as plt\n",
    "import pandas as pd\n",
    "# Algorithm\n",
    "from sklearn.ensemble import RandomForestClassifier"
   ]
  },
  {
   "cell_type": "code",
   "execution_count": 3,
   "metadata": {},
   "outputs": [],
   "source": [
    "# Importing training dataset\n",
    "df_train = pd.read_csv('coronaTrain.csv')\n",
    "X_train = df_train.iloc[:,1:1001]\n",
    "Y_train = df_train.iloc[:, -1]\n",
    "\n",
    "#importing test dataset\n",
    "df_test = pd.read_csv('coronaTest.csv')\n",
    "X_test = df_test.iloc[:,1:1001]"
   ]
  },
  {
   "cell_type": "code",
   "execution_count": 4,
   "metadata": {},
   "outputs": [],
   "source": [
    "# Feature Scaling\n",
    "from sklearn.preprocessing import StandardScaler\n",
    "sc = StandardScaler()\n",
    "X_train = sc.fit_transform(X_train)\n",
    "X_test = sc.fit_transform(X_test)"
   ]
  },
  {
   "cell_type": "code",
   "execution_count": 5,
   "metadata": {},
   "outputs": [
    {
     "name": "stdout",
     "output_type": "stream",
     "text": [
      "100.0\n"
     ]
    }
   ],
   "source": [
    "# Random Forest on training set\n",
    "random_forest = RandomForestClassifier(n_estimators=100)\n",
    "random_forest.fit(X_train, Y_train)\n",
    "acc_random_forest = round(random_forest.score(X_train, Y_train) * 100, 2)\n",
    "print(acc_random_forest)"
   ]
  },
  {
   "cell_type": "code",
   "execution_count": 6,
   "metadata": {},
   "outputs": [
    {
     "name": "stdout",
     "output_type": "stream",
     "text": [
      "0.8896593619558736\n",
      "0.02324770649218263\n"
     ]
    }
   ],
   "source": [
    "# Applying k-Fold Cross Validation\n",
    "from sklearn.model_selection import cross_val_score\n",
    "accuracies_rf = cross_val_score(random_forest, X = X_train, y = Y_train, cv = 10,scoring='accuracy')\n",
    "print(accuracies_rf.mean())\n",
    "print(accuracies_rf.std())"
   ]
  },
  {
   "cell_type": "code",
   "execution_count": 7,
   "metadata": {},
   "outputs": [
    {
     "data": {
      "text/plain": [
       "<matplotlib.axes._subplots.AxesSubplot at 0x1f2eb6a36d8>"
      ]
     },
     "execution_count": 7,
     "metadata": {},
     "output_type": "execute_result"
    },
    {
     "data": {
      "image/png": "[encoded data removed]",
      "text/plain": [
       "<Figure size 432x288 with 1 Axes>"
      ]
     },
     "metadata": {
      "needs_background": "light"
     },
     "output_type": "display_data"
    }
   ],
   "source": [
    "# Feature Importances\n",
    "importances = pd.DataFrame({'feature':pd.DataFrame(X_train).columns,\n",
    "                            'importance':np.round(random_forest.feature_importances_,3)})\n",
    "importances = importances.sort_values('importance',ascending=False).set_index('feature')\n",
    "importances.plot.bar()"
   ]
  },
  {
   "cell_type": "code",
   "execution_count": 8,
   "metadata": {},
   "outputs": [
    {
     "name": "stdout",
     "output_type": "stream",
     "text": [
      "[0, 1, 2, 3, 4, 6, 7, 9, 10, 11, 13, 15, 16, 20, 21, 23, 27, 28, 32, 34, 35, 37, 41, 44, 53, 58, 60, 61, 64, 74, 77, 99, 118, 128, 131, 144, 160, 169, 175, 176, 181, 272, 278, 280, 284, 299, 327, 378, 433, 449, 476, 522, 535, 537, 570, 595, 658, 692, 696, 697, 703, 711, 721, 722, 742, 750, 755, 782, 790, 803, 808, 819, 823, 831, 849, 851, 876, 948, 977, 985]\n",
      "80\n"
     ]
    }
   ],
   "source": [
    "# Taking features with importance>= 0.2%\n",
    "important_features=[]\n",
    "for i in range(len(importances)):\n",
    "    if importances['importance'][i]>=0.002:\n",
    "        important_features.append(i)\n",
    "print(important_features)\n",
    "print(len(important_features))"
   ]
  },
  {
   "cell_type": "code",
   "execution_count": 9,
   "metadata": {},
   "outputs": [],
   "source": [
    "# Training and test dataset with only important features\n",
    "X_train = pd.DataFrame(X_train).iloc[:,important_features]\n",
    "Y_train = pd.DataFrame(Y_train).iloc[:, -1]\n",
    "X_test = pd.DataFrame(X_test).iloc[:,important_features]"
   ]
  },
  {
   "cell_type": "code",
   "execution_count": 11,
   "metadata": {},
   "outputs": [
    {
     "name": "stdout",
     "output_type": "stream",
     "text": [
      "(1287, 80)\n",
      "(1287,)\n",
      "(1332, 80)\n"
     ]
    }
   ],
   "source": [
    "# Shape of modified datasets\n",
    "print(X_train.shape)\n",
    "print(Y_train.shape)\n",
    "print(X_test.shape)"
   ]
  },
  {
   "cell_type": "code",
   "execution_count": 12,
   "metadata": {},
   "outputs": [
    {
     "name": "stdout",
     "output_type": "stream",
     "text": [
      "0.9254155485986881\n",
      "0.02717300943637244\n"
     ]
    }
   ],
   "source": [
    "# Applying k-Fold Cross Validation again\n",
    "from sklearn.model_selection import cross_val_score\n",
    "accuracies_rf = cross_val_score(random_forest, X = X_train, y = Y_train, cv = 10,scoring='accuracy')\n",
    "print(accuracies_rf.mean())\n",
    "print(accuracies_rf.std())"
   ]
  },
  {
   "cell_type": "code",
   "execution_count": 13,
   "metadata": {},
   "outputs": [
    {
     "name": "stderr",
     "output_type": "stream",
     "text": [
      "C:\\Users\\Mahabub M Khan\\Anaconda3\\lib\\site-packages\\sklearn\\model_selection\\_split.py:1978: FutureWarning: The default value of cv will change from 3 to 5 in version 0.22. Specify it explicitly to silence this warning.\n",
      "  warnings.warn(CV_WARNING, FutureWarning)\n"
     ]
    },
    {
     "name": "stdout",
     "output_type": "stream",
     "text": [
      "{'criterion': 'gini', 'max_depth': 30, 'min_samples_leaf': 1, 'min_samples_split': 2, 'n_estimators': 1000}\n",
      "0.9308469308469308\n"
     ]
    }
   ],
   "source": [
    "# Hyper-parameter Tuning\n",
    "parameters = { \"criterion\" : [\"gini\", \"entropy\"], \n",
    "               'max_depth': [30,45,70, 100 ,None],\n",
    "               'min_samples_leaf': [1, 2, 4],\n",
    "               \"min_samples_split\" : [2,5,10], \n",
    "               \"n_estimators\": [400, 700, 1000,1500,2000]}\n",
    "from sklearn.model_selection import GridSearchCV, cross_val_score\n",
    "random_forest = RandomForestClassifier(n_estimators=100, \n",
    "                            random_state=1, \n",
    "                            n_jobs=-1)\n",
    "clf = GridSearchCV(estimator=random_forest, \n",
    "                   param_grid=parameters, \n",
    "                   scoring='accuracy',\n",
    "                   n_jobs=-1)\n",
    "clf.fit(X_train, Y_train)\n",
    "print(clf.best_params_)\n",
    "print(clf.best_score_)"
   ]
  },
  {
   "cell_type": "code",
   "execution_count": 14,
   "metadata": {},
   "outputs": [
    {
     "data": {
      "text/plain": [
       "RandomForestClassifier(bootstrap=True, class_weight=None, criterion='gini',\n",
       "                       max_depth=30, max_features='auto', max_leaf_nodes=None,\n",
       "                       min_impurity_decrease=0.0, min_impurity_split=None,\n",
       "                       min_samples_leaf=1, min_samples_split=2,\n",
       "                       min_weight_fraction_leaf=0.0, n_estimators=1000,\n",
       "                       n_jobs=-1, oob_score=False, random_state=1, verbose=0,\n",
       "                       warm_start=False)"
      ]
     },
     "execution_count": 14,
     "metadata": {},
     "output_type": "execute_result"
    }
   ],
   "source": [
    "# Random Forest with new parameters\n",
    "random_forest = RandomForestClassifier(criterion = \"gini\", \n",
    "                                       max_depth = 30 , \n",
    "                                       min_samples_leaf=1,\n",
    "                                       min_samples_split = 2,   \n",
    "                                       n_estimators=1000, \n",
    "                                       random_state=1, \n",
    "                                       n_jobs=-1)\n",
    "\n",
    "random_forest.fit(X_train, Y_train)"
   ]
  },
  {
   "cell_type": "code",
   "execution_count": 15,
   "metadata": {},
   "outputs": [],
   "source": [
    "# prediction\n",
    "Y_pred = random_forest.predict(X_test)"
   ]
  },
  {
   "cell_type": "code",
   "execution_count": 16,
   "metadata": {},
   "outputs": [],
   "source": [
    "# Exporting prediction file\n",
    "pd.DataFrame(Y_pred).to_csv('CovidPrediction.csv')"
   ]
  },
  {
   "cell_type": "code",
   "execution_count": 17,
   "metadata": {},
   "outputs": [],
   "source": [
    "# The End"
   ]
  }
 ],
 "metadata": {
  "kernelspec": {
   "display_name": "Python 3",
   "language": "python",
   "name": "python3"
  },
  "language_info": {
   "codemirror_mode": {
    "name": "ipython",
    "version": 3
   },
   "file_extension": ".py",
   "mimetype": "text/x-python",
   "name": "python",
   "nbconvert_exporter": "python",
   "pygments_lexer": "ipython3",
   "version": "3.7.1"
  }
 },
 "nbformat": 4,
 "nbformat_minor": 2
}
