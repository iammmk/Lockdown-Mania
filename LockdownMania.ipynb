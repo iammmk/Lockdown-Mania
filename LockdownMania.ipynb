{
 "cells": [
  {
   "cell_type": "code",
   "execution_count": 1,
   "metadata": {},
   "outputs": [],
   "source": [
    "# Lockdown Mania"
   ]
  },
  {
   "cell_type": "code",
   "execution_count": 2,
   "metadata": {},
   "outputs": [],
   "source": [
    "# Importing the libraries\n",
    "import numpy as np\n",
    "import matplotlib.pyplot as plt\n",
    "import pandas as pd\n",
    "# Algorithm\n",
    "from sklearn.ensemble import RandomForestClassifier"
   ]
  },
  {
   "cell_type": "code",
   "execution_count": 3,
   "metadata": {},
   "outputs": [],
   "source": [
    "# Importing training dataset\n",
    "df_train = pd.read_csv('coronaTrain.csv')\n",
    "X_train = df_train.iloc[:,1:1001]\n",
    "Y_train = df_train.iloc[:, -1]\n",
    "\n",
    "#importing test dataset\n",
    "df_test = pd.read_csv('coronaTest.csv')\n",
    "X_test = df_test.iloc[:,1:1001]"
   ]
  },
  {
   "cell_type": "code",
   "execution_count": 4,
   "metadata": {},
   "outputs": [],
   "source": [
    "# Feature Scaling\n",
    "from sklearn.preprocessing import StandardScaler\n",
    "sc = StandardScaler()\n",
    "X_train = sc.fit_transform(X_train)\n",
    "X_test = sc.fit_transform(X_test)"
   ]
  },
  {
   "cell_type": "code",
   "execution_count": 5,
   "metadata": {},
   "outputs": [
    {
     "name": "stdout",
     "output_type": "stream",
     "text": [
      "100.0\n"
     ]
    }
   ],
   "source": [
    "# Random Forest on training set\n",
    "random_forest = RandomForestClassifier(n_estimators=100)\n",
    "random_forest.fit(X_train, Y_train)\n",
    "acc_random_forest = round(random_forest.score(X_train, Y_train) * 100, 2)\n",
    "print(acc_random_forest)"
   ]
  },
  {
   "cell_type": "code",
   "execution_count": 6,
   "metadata": {},
   "outputs": [
    {
     "name": "stdout",
     "output_type": "stream",
     "text": [
      "0.8648342464221825\n",
      "0.014480089306378369\n"
     ]
    }
   ],
   "source": [
    "# Applying k-Fold Cross Validation\n",
    "from sklearn.model_selection import cross_val_score\n",
    "accuracies_rf = cross_val_score(random_forest, X = X_train, y = Y_train, cv = 10,scoring='accuracy')\n",
    "print(accuracies_rf.mean())\n",
    "print(accuracies_rf.std())"
   ]
  },
  {
   "cell_type": "code",
   "execution_count": 7,
   "metadata": {},
   "outputs": [
    {
     "name": "stderr",
     "output_type": "stream",
     "text": [
      "C:\\Users\\Mahabub M Khan\\Anaconda3\\lib\\site-packages\\sklearn\\model_selection\\_split.py:1978: FutureWarning: The default value of cv will change from 3 to 5 in version 0.22. Specify it explicitly to silence this warning.\n",
      "  warnings.warn(CV_WARNING, FutureWarning)\n"
     ]
    },
    {
     "name": "stdout",
     "output_type": "stream",
     "text": [
      "{'criterion': 'entropy', 'min_samples_leaf': 1, 'min_samples_split': 8, 'n_estimators': 1000}\n",
      "0.9153069153069153\n"
     ]
    }
   ],
   "source": [
    "# Hyper-parameter Tuning\n",
    "parameters = { \"criterion\" : [\"gini\", \"entropy\"], \n",
    "               \"min_samples_leaf\" : [1, 5, 10], \n",
    "               \"min_samples_split\" : [2, 8, 12, 18], \n",
    "               \"n_estimators\": [400, 700, 1000]}\n",
    "from sklearn.model_selection import GridSearchCV, cross_val_score\n",
    "random_forest = RandomForestClassifier(n_estimators=100, \n",
    "                            random_state=1, \n",
    "                            n_jobs=-1)\n",
    "clf = GridSearchCV(estimator=random_forest, \n",
    "                   param_grid=parameters, \n",
    "                   scoring='accuracy',\n",
    "                   n_jobs=-1)\n",
    "clf.fit(X_train, Y_train)\n",
    "print(clf.best_params_)\n",
    "print(clf.best_score_)"
   ]
  },
  {
   "cell_type": "code",
   "execution_count": 10,
   "metadata": {},
   "outputs": [
    {
     "name": "stdout",
     "output_type": "stream",
     "text": [
      "[0 2 2 ... 0 1 0]\n"
     ]
    }
   ],
   "source": [
    "## Random Forest with new parameters\n",
    "random_forest = RandomForestClassifier(criterion = \"entropy\", \n",
    "                                       min_samples_leaf = 1, \n",
    "                                       min_samples_split = 8,   \n",
    "                                       n_estimators=1000, \n",
    "                                       random_state=1, \n",
    "                                       n_jobs=-1)\n",
    "\n",
    "random_forest.fit(X_train, Y_train)\n",
    "Y_pred = random_forest.predict(X_test)\n",
    "print(Y_pred)"
   ]
  },
  {
   "cell_type": "code",
   "execution_count": 18,
   "metadata": {},
   "outputs": [
    {
     "name": "stderr",
     "output_type": "stream",
     "text": [
      "C:\\Users\\Mahabub M Khan\\Anaconda3\\lib\\site-packages\\ipykernel_launcher.py:3: UserWarning: Pandas doesn't allow columns to be created via a new attribute name - see https://pandas.pydata.org/pandas-docs/stable/indexing.html#attribute-access\n",
      "  This is separate from the ipykernel package so we can avoid doing imports until\n"
     ]
    },
    {
     "name": "stdout",
     "output_type": "stream",
     "text": [
      "      Index  Status\n",
      "0         0       0\n",
      "1         1       2\n",
      "2         2       2\n",
      "3         3       0\n",
      "4         4       0\n",
      "5         5       2\n",
      "6         6       2\n",
      "7         7       2\n",
      "8         8       2\n",
      "9         9       0\n",
      "10       10       0\n",
      "11       11       0\n",
      "12       12       1\n",
      "13       13       1\n",
      "14       14       1\n",
      "15       15       2\n",
      "16       16       0\n",
      "17       17       1\n",
      "18       18       1\n",
      "19       19       2\n",
      "20       20       2\n",
      "21       21       1\n",
      "22       22       1\n",
      "23       23       1\n",
      "24       24       1\n",
      "25       25       2\n",
      "26       26       1\n",
      "27       27       0\n",
      "28       28       2\n",
      "29       29       2\n",
      "...     ...     ...\n",
      "1302   1302       1\n",
      "1303   1303       2\n",
      "1304   1304       1\n",
      "1305   1305       1\n",
      "1306   1306       2\n",
      "1307   1307       0\n",
      "1308   1308       2\n",
      "1309   1309       0\n",
      "1310   1310       2\n",
      "1311   1311       2\n",
      "1312   1312       1\n",
      "1313   1313       2\n",
      "1314   1314       1\n",
      "1315   1315       1\n",
      "1316   1316       2\n",
      "1317   1317       0\n",
      "1318   1318       2\n",
      "1319   1319       2\n",
      "1320   1320       1\n",
      "1321   1321       2\n",
      "1322   1322       2\n",
      "1323   1323       0\n",
      "1324   1324       2\n",
      "1325   1325       1\n",
      "1326   1326       2\n",
      "1327   1327       0\n",
      "1328   1328       0\n",
      "1329   1329       0\n",
      "1330   1330       1\n",
      "1331   1331       0\n",
      "\n",
      "[1332 rows x 2 columns]\n"
     ]
    }
   ],
   "source": [
    "# Exporting Submission File\n",
    "Y_pred = pd.DataFrame(Y_pred)\n",
    "Y_pred.column = ['Status']\n",
    "print(Y_pred)\n",
    "Y_pred.to_csv('LockdownManiaFinal.csv')"
   ]
  },
  {
   "cell_type": "code",
   "execution_count": null,
   "metadata": {},
   "outputs": [],
   "source": [
    "## The End"
   ]
  }
 ],
 "metadata": {
  "kernelspec": {
   "display_name": "Python 3",
   "language": "python",
   "name": "python3"
  },
  "language_info": {
   "codemirror_mode": {
    "name": "ipython",
    "version": 3
   },
   "file_extension": ".py",
   "mimetype": "text/x-python",
   "name": "python",
   "nbconvert_exporter": "python",
   "pygments_lexer": "ipython3",
   "version": "3.7.1"
  }
 },
 "nbformat": 4,
 "nbformat_minor": 2
}
